{
  "nbformat": 4,
  "nbformat_minor": 0,
  "metadata": {
    "colab": {
      "provenance": [],
      "authorship_tag": "ABX9TyPS09eQrwc98UMM0yACyfsp",
      "include_colab_link": true
    },
    "kernelspec": {
      "name": "python3",
      "display_name": "Python 3"
    },
    "language_info": {
      "name": "python"
    }
  },
  "cells": [
    {
      "cell_type": "markdown",
      "metadata": {
        "id": "view-in-github",
        "colab_type": "text"
      },
      "source": [
        "<a href=\"https://colab.research.google.com/github/vitorfalmeida/CEP-found/blob/main/notebook-aed-acesso.ipynb\" target=\"_parent\"><img src=\"https://colab.research.google.com/assets/colab-badge.svg\" alt=\"Open In Colab\"/></a>"
      ]
    },
    {
      "cell_type": "markdown",
      "source": [
        "# ANÁLISE ESTATÍSTICA DESCRITIVA - CONTROLE DE ACESSO"
      ],
      "metadata": {
        "id": "P3aYsBAQhmBc"
      }
    },
    {
      "cell_type": "code",
      "source": [
        "import pandas as pd\n",
        "#importação de dados CSV com separador de colunas pelo caracter \",\"\n",
        "dataset = pd.read_csv('data-set-acesso.csv', sep=';')\n",
        "dataset"
      ],
      "metadata": {
        "colab": {
          "base_uri": "https://localhost:8080/",
          "height": 423
        },
        "id": "YMER6koehttl",
        "outputId": "19c5d4e4-4ec2-45df-e6bc-f60d2c865c9a"
      },
      "execution_count": 18,
      "outputs": [
        {
          "output_type": "execute_result",
          "data": {
            "text/plain": [
              "     numr_titul data_acesso      hora_acesso  idade sexo\n",
              "0       PAC0001  2018-01-02  06:07:37.660258  117.0    M\n",
              "1       SCF0970  2018-01-02  06:07:37.660258   69.0    M\n",
              "2       SP 4573  2018-01-02  06:07:37.660258   73.0    M\n",
              "3       SP 1664  2018-01-02  06:07:37.660258   77.0    M\n",
              "4       SCE4165  2018-01-02  06:07:37.660258   67.0    M\n",
              "...         ...         ...              ...    ...  ...\n",
              "1995    SCE1681  2018-01-02  06:07:37.660258   47.0    M\n",
              "1996    SCF0133  2018-01-02  06:07:37.660258   52.0    M\n",
              "1997    SCF4945  2018-01-02  06:07:37.660258   82.0    F\n",
              "1998    SP 1077  2018-01-02  06:07:37.660258   73.0    F\n",
              "1999    SF 3289  2018-01-02  06:07:37.660258   67.0    F\n",
              "\n",
              "[2000 rows x 5 columns]"
            ],
            "text/html": [
              "\n",
              "  <div id=\"df-bba24a20-2cdd-423e-ac28-fe1c35dc55c7\">\n",
              "    <div class=\"colab-df-container\">\n",
              "      <div>\n",
              "<style scoped>\n",
              "    .dataframe tbody tr th:only-of-type {\n",
              "        vertical-align: middle;\n",
              "    }\n",
              "\n",
              "    .dataframe tbody tr th {\n",
              "        vertical-align: top;\n",
              "    }\n",
              "\n",
              "    .dataframe thead th {\n",
              "        text-align: right;\n",
              "    }\n",
              "</style>\n",
              "<table border=\"1\" class=\"dataframe\">\n",
              "  <thead>\n",
              "    <tr style=\"text-align: right;\">\n",
              "      <th></th>\n",
              "      <th>numr_titul</th>\n",
              "      <th>data_acesso</th>\n",
              "      <th>hora_acesso</th>\n",
              "      <th>idade</th>\n",
              "      <th>sexo</th>\n",
              "    </tr>\n",
              "  </thead>\n",
              "  <tbody>\n",
              "    <tr>\n",
              "      <th>0</th>\n",
              "      <td>PAC0001</td>\n",
              "      <td>2018-01-02</td>\n",
              "      <td>06:07:37.660258</td>\n",
              "      <td>117.0</td>\n",
              "      <td>M</td>\n",
              "    </tr>\n",
              "    <tr>\n",
              "      <th>1</th>\n",
              "      <td>SCF0970</td>\n",
              "      <td>2018-01-02</td>\n",
              "      <td>06:07:37.660258</td>\n",
              "      <td>69.0</td>\n",
              "      <td>M</td>\n",
              "    </tr>\n",
              "    <tr>\n",
              "      <th>2</th>\n",
              "      <td>SP 4573</td>\n",
              "      <td>2018-01-02</td>\n",
              "      <td>06:07:37.660258</td>\n",
              "      <td>73.0</td>\n",
              "      <td>M</td>\n",
              "    </tr>\n",
              "    <tr>\n",
              "      <th>3</th>\n",
              "      <td>SP 1664</td>\n",
              "      <td>2018-01-02</td>\n",
              "      <td>06:07:37.660258</td>\n",
              "      <td>77.0</td>\n",
              "      <td>M</td>\n",
              "    </tr>\n",
              "    <tr>\n",
              "      <th>4</th>\n",
              "      <td>SCE4165</td>\n",
              "      <td>2018-01-02</td>\n",
              "      <td>06:07:37.660258</td>\n",
              "      <td>67.0</td>\n",
              "      <td>M</td>\n",
              "    </tr>\n",
              "    <tr>\n",
              "      <th>...</th>\n",
              "      <td>...</td>\n",
              "      <td>...</td>\n",
              "      <td>...</td>\n",
              "      <td>...</td>\n",
              "      <td>...</td>\n",
              "    </tr>\n",
              "    <tr>\n",
              "      <th>1995</th>\n",
              "      <td>SCE1681</td>\n",
              "      <td>2018-01-02</td>\n",
              "      <td>06:07:37.660258</td>\n",
              "      <td>47.0</td>\n",
              "      <td>M</td>\n",
              "    </tr>\n",
              "    <tr>\n",
              "      <th>1996</th>\n",
              "      <td>SCF0133</td>\n",
              "      <td>2018-01-02</td>\n",
              "      <td>06:07:37.660258</td>\n",
              "      <td>52.0</td>\n",
              "      <td>M</td>\n",
              "    </tr>\n",
              "    <tr>\n",
              "      <th>1997</th>\n",
              "      <td>SCF4945</td>\n",
              "      <td>2018-01-02</td>\n",
              "      <td>06:07:37.660258</td>\n",
              "      <td>82.0</td>\n",
              "      <td>F</td>\n",
              "    </tr>\n",
              "    <tr>\n",
              "      <th>1998</th>\n",
              "      <td>SP 1077</td>\n",
              "      <td>2018-01-02</td>\n",
              "      <td>06:07:37.660258</td>\n",
              "      <td>73.0</td>\n",
              "      <td>F</td>\n",
              "    </tr>\n",
              "    <tr>\n",
              "      <th>1999</th>\n",
              "      <td>SF 3289</td>\n",
              "      <td>2018-01-02</td>\n",
              "      <td>06:07:37.660258</td>\n",
              "      <td>67.0</td>\n",
              "      <td>F</td>\n",
              "    </tr>\n",
              "  </tbody>\n",
              "</table>\n",
              "<p>2000 rows × 5 columns</p>\n",
              "</div>\n",
              "      <button class=\"colab-df-convert\" onclick=\"convertToInteractive('df-bba24a20-2cdd-423e-ac28-fe1c35dc55c7')\"\n",
              "              title=\"Convert this dataframe to an interactive table.\"\n",
              "              style=\"display:none;\">\n",
              "        \n",
              "  <svg xmlns=\"http://www.w3.org/2000/svg\" height=\"24px\"viewBox=\"0 0 24 24\"\n",
              "       width=\"24px\">\n",
              "    <path d=\"M0 0h24v24H0V0z\" fill=\"none\"/>\n",
              "    <path d=\"M18.56 5.44l.94 2.06.94-2.06 2.06-.94-2.06-.94-.94-2.06-.94 2.06-2.06.94zm-11 1L8.5 8.5l.94-2.06 2.06-.94-2.06-.94L8.5 2.5l-.94 2.06-2.06.94zm10 10l.94 2.06.94-2.06 2.06-.94-2.06-.94-.94-2.06-.94 2.06-2.06.94z\"/><path d=\"M17.41 7.96l-1.37-1.37c-.4-.4-.92-.59-1.43-.59-.52 0-1.04.2-1.43.59L10.3 9.45l-7.72 7.72c-.78.78-.78 2.05 0 2.83L4 21.41c.39.39.9.59 1.41.59.51 0 1.02-.2 1.41-.59l7.78-7.78 2.81-2.81c.8-.78.8-2.07 0-2.86zM5.41 20L4 18.59l7.72-7.72 1.47 1.35L5.41 20z\"/>\n",
              "  </svg>\n",
              "      </button>\n",
              "      \n",
              "  <style>\n",
              "    .colab-df-container {\n",
              "      display:flex;\n",
              "      flex-wrap:wrap;\n",
              "      gap: 12px;\n",
              "    }\n",
              "\n",
              "    .colab-df-convert {\n",
              "      background-color: #E8F0FE;\n",
              "      border: none;\n",
              "      border-radius: 50%;\n",
              "      cursor: pointer;\n",
              "      display: none;\n",
              "      fill: #1967D2;\n",
              "      height: 32px;\n",
              "      padding: 0 0 0 0;\n",
              "      width: 32px;\n",
              "    }\n",
              "\n",
              "    .colab-df-convert:hover {\n",
              "      background-color: #E2EBFA;\n",
              "      box-shadow: 0px 1px 2px rgba(60, 64, 67, 0.3), 0px 1px 3px 1px rgba(60, 64, 67, 0.15);\n",
              "      fill: #174EA6;\n",
              "    }\n",
              "\n",
              "    [theme=dark] .colab-df-convert {\n",
              "      background-color: #3B4455;\n",
              "      fill: #D2E3FC;\n",
              "    }\n",
              "\n",
              "    [theme=dark] .colab-df-convert:hover {\n",
              "      background-color: #434B5C;\n",
              "      box-shadow: 0px 1px 3px 1px rgba(0, 0, 0, 0.15);\n",
              "      filter: drop-shadow(0px 1px 2px rgba(0, 0, 0, 0.3));\n",
              "      fill: #FFFFFF;\n",
              "    }\n",
              "  </style>\n",
              "\n",
              "      <script>\n",
              "        const buttonEl =\n",
              "          document.querySelector('#df-bba24a20-2cdd-423e-ac28-fe1c35dc55c7 button.colab-df-convert');\n",
              "        buttonEl.style.display =\n",
              "          google.colab.kernel.accessAllowed ? 'block' : 'none';\n",
              "\n",
              "        async function convertToInteractive(key) {\n",
              "          const element = document.querySelector('#df-bba24a20-2cdd-423e-ac28-fe1c35dc55c7');\n",
              "          const dataTable =\n",
              "            await google.colab.kernel.invokeFunction('convertToInteractive',\n",
              "                                                     [key], {});\n",
              "          if (!dataTable) return;\n",
              "\n",
              "          const docLinkHtml = 'Like what you see? Visit the ' +\n",
              "            '<a target=\"_blank\" href=https://colab.research.google.com/notebooks/data_table.ipynb>data table notebook</a>'\n",
              "            + ' to learn more about interactive tables.';\n",
              "          element.innerHTML = '';\n",
              "          dataTable['output_type'] = 'display_data';\n",
              "          await google.colab.output.renderOutput(dataTable, element);\n",
              "          const docLink = document.createElement('div');\n",
              "          docLink.innerHTML = docLinkHtml;\n",
              "          element.appendChild(docLink);\n",
              "        }\n",
              "      </script>\n",
              "    </div>\n",
              "  </div>\n",
              "  "
            ]
          },
          "metadata": {},
          "execution_count": 18
        }
      ]
    },
    {
      "cell_type": "code",
      "source": [
        "# Valor minimo da idade\n",
        "minIdade = str(dataset['idade'].min())\n",
        "print( 'A idade minima é: ' + minIdade)\n",
        "# Valor máximo da idade\n",
        "maxIdade = str(dataset['idade'].max())\n",
        "print( 'A idade máxima é: ' + maxIdade)\n",
        "# Valor do desvio padrão\n",
        "desvPadIdade = str(dataset['idade'].std())\n",
        "print( 'O desvio padrão é: ' + desvPadIdade)\n",
        "# Valor da media da idade\n",
        "mediaIdade = str(dataset['idade'].mean())\n",
        "print( 'A media das idades  é: ' + mediaIdade)\n",
        "# Valor da mediana da idade\n",
        "idadeMediana = str(dataset['idade'].median())\n",
        "print( 'A mediana das idades é: ' + idadeMediana)"
      ],
      "metadata": {
        "colab": {
          "base_uri": "https://localhost:8080/"
        },
        "id": "JTQMnX6RmCL8",
        "outputId": "d3c54bfd-3323-44df-a155-39beb1c63adc"
      },
      "execution_count": 45,
      "outputs": [
        {
          "output_type": "stream",
          "name": "stdout",
          "text": [
            "A idade minima é: 8.0\n",
            "A idade máxima é: 118.0\n",
            "O desvio padrão é: 20.42069010524055\n",
            "A media das idades  é: 48.5727863931966\n",
            "A mediana das idades é: 49.0\n"
          ]
        }
      ]
    },
    {
      "cell_type": "code",
      "source": [
        "#Qual é a contagem total dos acessos agrupados por sexo\n",
        "qntdPorSexo=dataset.groupby('sexo')['sexo'].count()\n",
        "print('A quantidade de pessoas agrupadas por sexo é\\n'+str(qntdPorSexo))\n",
        "\n",
        "# Qual é a contagem total dos acessos apenas para faixa etária de adolescentes\n",
        "qntContIdadeAdolescente = dataset[(dataset['idade']>=18) & (dataset['idade']<= 30)]['idade'].count()\n",
        "print('\\n a quantidade de adolescentes entre 18 e 30 anos é: '+ str(qntContIdadeAdolescente))"
      ],
      "metadata": {
        "colab": {
          "base_uri": "https://localhost:8080/"
        },
        "id": "JOk-WwU5qV_u",
        "outputId": "1c8fe756-3298-4c78-9e5d-14b22c03ae22"
      },
      "execution_count": 61,
      "outputs": [
        {
          "output_type": "stream",
          "name": "stdout",
          "text": [
            "A quantidade de pessoas agrupadas por sexo é\n",
            "sexo\n",
            "F     950\n",
            "M    1050\n",
            "Name: sexo, dtype: int64\n",
            "\n",
            " a quantidade de adolescentes entre 18 e 30 anos é: 360\n"
          ]
        }
      ]
    },
    {
      "cell_type": "markdown",
      "source": [
        "#GRÁFICO"
      ],
      "metadata": {
        "id": "xeyDG4_12270"
      }
    },
    {
      "cell_type": "code",
      "source": [
        "#Histograma Qnt x Sexo\n",
        "histograma = dataset['sexo'].hist()\n",
        "print(histograma)\n",
        "\n"
      ],
      "metadata": {
        "colab": {
          "base_uri": "https://localhost:8080/",
          "height": 447
        },
        "id": "3rWK0NGU25Nr",
        "outputId": "94f7dc11-8003-45f9-8753-60203a33e953"
      },
      "execution_count": 76,
      "outputs": [
        {
          "output_type": "stream",
          "name": "stdout",
          "text": [
            "Axes(0.125,0.11;0.775x0.77)\n"
          ]
        },
        {
          "output_type": "display_data",
          "data": {
            "text/plain": [
              "<Figure size 640x480 with 1 Axes>"
            ],
            "image/png": "[encoded data removed]"
          },
          "metadata": {}
        }
      ]
    },
    {
      "cell_type": "code",
      "source": [
        "#Gráfico Pizza\n",
        "graficoPizza = dataset['sexo'].value_counts().plot(kind = 'pie', title='Sexo', legend=True, table= True, autopct = '%1.1f%%')\n",
        "print(graficoPizza)"
      ],
      "metadata": {
        "colab": {
          "base_uri": "https://localhost:8080/",
          "height": 479
        },
        "id": "l4BOm36y444r",
        "outputId": "618beb17-12d1-4cc3-b673-f7293df574e9"
      },
      "execution_count": 75,
      "outputs": [
        {
          "output_type": "stream",
          "name": "stdout",
          "text": [
            "Axes(0.22375,0.11;0.5775x0.77)\n"
          ]
        },
        {
          "output_type": "display_data",
          "data": {
            "text/plain": [
              "<Figure size 640x480 with 1 Axes>"
            ],
            "image/png": "[encoded data removed]"
          },
          "metadata": {}
        }
      ]
    },
    {
      "cell_type": "code",
      "source": [
        "#Histograma por QntxIdade\n",
        "histIdade = dataset['idade'].hist(bins=50, color = 'orange')\n",
        "print(histIdade)"
      ],
      "metadata": {
        "colab": {
          "base_uri": "https://localhost:8080/",
          "height": 447
        },
        "id": "ftdJIIOL2nXk",
        "outputId": "5a8f2d66-db7f-42ac-bb08-e63951b781f4"
      },
      "execution_count": 84,
      "outputs": [
        {
          "output_type": "stream",
          "name": "stdout",
          "text": [
            "Axes(0.125,0.11;0.775x0.77)\n"
          ]
        },
        {
          "output_type": "display_data",
          "data": {
            "text/plain": [
              "<Figure size 640x480 with 1 Axes>"
            ],
            "image/png": "[encoded data removed]"
          },
          "metadata": {}
        }
      ]
    },
    {
      "cell_type": "code",
      "source": [
        "#Histograma qnt x idade no intevalo entre 40 e 60 anos\n",
        "histIdadeIntervalo = dataset['idade'][(dataset['idade']>= 40) & (dataset['idade']<=60)].hist(bins=50, color = 'red')\n",
        "print(histIdadeIntervalo)"
      ],
      "metadata": {
        "colab": {
          "base_uri": "https://localhost:8080/",
          "height": 447
        },
        "id": "_rtpMT2b8-U-",
        "outputId": "d184561f-367d-41bd-945c-5d309d78d9d1"
      },
      "execution_count": 89,
      "outputs": [
        {
          "output_type": "stream",
          "name": "stdout",
          "text": [
            "Axes(0.125,0.11;0.775x0.77)\n"
          ]
        },
        {
          "output_type": "display_data",
          "data": {
            "text/plain": [
              "<Figure size 640x480 with 1 Axes>"
            ],
            "image/png": "[encoded data removed]"
          },
          "metadata": {}
        }
      ]
    },
    {
      "cell_type": "code",
      "source": [
        "#Gráfico de caixa\n",
        "graficoCaixa = dataset.boxplot()\n",
        "print(graficoCaixa)"
      ],
      "metadata": {
        "colab": {
          "base_uri": "https://localhost:8080/",
          "height": 447
        },
        "id": "pFceE8NgATil",
        "outputId": "cabe6409-2f1e-44cc-d7de-efca733af195"
      },
      "execution_count": 92,
      "outputs": [
        {
          "output_type": "stream",
          "name": "stdout",
          "text": [
            "Axes(0.125,0.11;0.775x0.77)\n"
          ]
        },
        {
          "output_type": "display_data",
          "data": {
            "text/plain": [
              "<Figure size 640x480 with 1 Axes>"
            ],
            "image/png": "[encoded data removed]"
          },
          "metadata": {}
        }
      ]
    },
    {
      "cell_type": "code",
      "source": [],
      "metadata": {
        "id": "I6mn3aKPAZnp"
      },
      "execution_count": null,
      "outputs": []
    }
  ]
}